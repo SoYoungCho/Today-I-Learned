{
 "cells": [
  {
   "cell_type": "code",
   "execution_count": 1,
   "metadata": {},
   "outputs": [],
   "source": [
    "import random"
   ]
  },
  {
   "cell_type": "code",
   "execution_count": 2,
   "metadata": {},
   "outputs": [],
   "source": [
    "def get_random_number():\n",
    "    return random.randrange(100, 1000)"
   ]
  },
  {
   "cell_type": "code",
   "execution_count": 3,
   "metadata": {},
   "outputs": [],
   "source": [
    "def is_digit(user_input_number):\n",
    "    return True if user_input_number.isdigit() else False"
   ]
  },
  {
   "cell_type": "code",
   "execution_count": 5,
   "metadata": {},
   "outputs": [],
   "source": [
    "def is_between_100_and_999(user_input_number):\n",
    "    return True if int(user_input_number) >= 100 and int(user_input_number) < 1000 else False"
   ]
  },
  {
   "cell_type": "code",
   "execution_count": 7,
   "metadata": {},
   "outputs": [],
   "source": [
    "def is_duplicated_number(three_digit):\n",
    "    num_set = set(three_digit)\n",
    "    return True if len(num_set) != 3 else False\n"
   ]
  },
  {
   "cell_type": "code",
   "execution_count": 8,
   "metadata": {},
   "outputs": [],
   "source": [
    "def is_validated_number(user_input_number):\n",
    "    return True if (is_digit(user_input_number) and is_between_100_and_999(user_input_number) and ~is_duplicated_number(user_input_number)) else False\n",
    "\n",
    "        "
   ]
  },
  {
   "cell_type": "code",
   "execution_count": 9,
   "metadata": {},
   "outputs": [],
   "source": [
    "def get_not_duplicated_three_digit_number():\n",
    "    num = get_random_number()\n",
    "    random_num_set = set(str(num))\n",
    "    \n",
    "    if len(random_num_set) != 3:\n",
    "        return get_not_duplicated_three_digit_number()\n",
    "    else:\n",
    "        return num"
   ]
  },
  {
   "cell_type": "code",
   "execution_count": 10,
   "metadata": {},
   "outputs": [],
   "source": [
    "def get_strikes_or_ball(user_input_number, random_number):\n",
    "  \n",
    "    result = [0,0]\n",
    "\n",
    "    user_list = list(user_input_number)\n",
    "    rand_list = list(random_number)\n",
    "\n",
    "    for i, num in enumerate(user_list):\n",
    "        if num == rand_list[i]:\n",
    "            result[0] += 1\n",
    "        elif num in rand_list:\n",
    "            result[1] += 1\n",
    "    return result"
   ]
  },
  {
   "cell_type": "code",
   "execution_count": 12,
   "metadata": {},
   "outputs": [],
   "source": [
    "def is_yes(one_more_input):\n",
    "    return True if one_more_input.lower() == \"y\" or one_more_input.lower() == \"yes\" else False\n"
   ]
  },
  {
   "cell_type": "code",
   "execution_count": 13,
   "metadata": {},
   "outputs": [],
   "source": [
    "def is_no(one_more_input):  \n",
    "    return True if one_more_input.lower() == \"n\" or one_more_input.lower() == \"no\" else False"
   ]
  },
  {
   "cell_type": "code",
   "execution_count": 14,
   "metadata": {},
   "outputs": [],
   "source": [
    "def main():\n",
    "    print(\"Play Baseball\")\n",
    "    user_input = 999\n",
    "    \n",
    "    \n",
    "    def play():\n",
    "        flag = False\n",
    "        random_number = str(get_not_duplicated_three_digit_number())\n",
    "        print(\"Random Number is : \", random_number)\n",
    "        \n",
    "        while True:\n",
    "            user_input = input('Input guess number :')\n",
    "            \n",
    "            while True:\n",
    "                if int(user_input) == 0:\n",
    "                    flag = True\n",
    "                    break\n",
    "                \n",
    "                if is_validated_number(user_input) == False:\n",
    "                    print(\"Wrong Input, Input again.\")\n",
    "                    user_input = input('Input guess number :')\n",
    "                else:\n",
    "                    break\n",
    "            \n",
    "            if flag:\n",
    "                break\n",
    "                \n",
    "            strike_num, ball_num = get_strikes_or_ball(user_input, random_number)[0], get_strikes_or_ball(user_input, random_number)[1]\n",
    "            print(\"Strikes :\", strike_num, \"Balls : \", ball_num)\n",
    "            \n",
    "            if strike_num == 3:\n",
    "                while True:\n",
    "                    one_more_input = input(\"You win, one more(Y/N)?\")\n",
    "                    if is_yes(one_more_input):\n",
    "                        return play()\n",
    "                    elif is_no(one_more_input):\n",
    "                        break                   \n",
    "                    else: \n",
    "                        print(\"Wrong Input, Input again.\")\n",
    "    play()\n",
    "       \n",
    "\n",
    "    # ==================================\n",
    "    print(\"Thank you for using this program\")\n",
    "    print(\"End of the Game\")"
   ]
  },
  {
   "cell_type": "code",
   "execution_count": 15,
   "metadata": {},
   "outputs": [
    {
     "name": "stdout",
     "output_type": "stream",
     "text": [
      "Play Baseball\n",
      "Random Number is :  950\n",
      "Input guess number :965\n",
      "Strikes : 1 Balls :  1\n",
      "Input guess number :950\n",
      "Strikes : 3 Balls :  0\n",
      "You win, one more(Y/N)?yes\n",
      "Random Number is :  547\n",
      "Input guess number :0\n",
      "Thank you for using this program\n",
      "End of the Game\n"
     ]
    }
   ],
   "source": [
    "if __name__ == \"__main__\":\n",
    "    main()"
   ]
  },
  {
   "cell_type": "code",
   "execution_count": null,
   "metadata": {},
   "outputs": [],
   "source": []
  },
  {
   "cell_type": "code",
   "execution_count": null,
   "metadata": {},
   "outputs": [],
   "source": []
  },
  {
   "cell_type": "code",
   "execution_count": null,
   "metadata": {},
   "outputs": [],
   "source": []
  }
 ],
 "metadata": {
  "kernelspec": {
   "display_name": "Python 3",
   "language": "python",
   "name": "python3"
  },
  "language_info": {
   "codemirror_mode": {
    "name": "ipython",
    "version": 3
   },
   "file_extension": ".py",
   "mimetype": "text/x-python",
   "name": "python",
   "nbconvert_exporter": "python",
   "pygments_lexer": "ipython3",
   "version": "3.7.4"
  }
 },
 "nbformat": 4,
 "nbformat_minor": 2
}
