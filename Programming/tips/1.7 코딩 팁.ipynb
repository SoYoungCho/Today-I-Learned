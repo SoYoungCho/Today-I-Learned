{
 "cells": [
  {
   "cell_type": "code",
   "execution_count": 2,
   "metadata": {},
   "outputs": [],
   "source": [
    "class Test: #클래스 이름은 대문자로! 암묵적 약속. 클래스인지 아닌지 판단하는 방법이 되기도 함.\n",
    "    def __init__(self): # 파이썬에서의 생성자 함수. self 대신 s 쓰기도 함.\n",
    "        num1 = 6 # 지역변수와 다를 바가 없음.\n",
    "        self.num = 5 \n",
    "        #self 암묵적인 약속. 자바에서의 this. 객체 자기 자신 의미.         "
   ]
  },
  {
   "cell_type": "code",
   "execution_count": 3,
   "metadata": {},
   "outputs": [
    {
     "data": {
      "text/plain": [
       "5"
      ]
     },
     "execution_count": 3,
     "metadata": {},
     "output_type": "execute_result"
    }
   ],
   "source": [
    "test = Test()\n",
    "test.num"
   ]
  },
  {
   "cell_type": "markdown",
   "metadata": {},
   "source": [
    "self가 붙어 있으면 그 클래스의 고유한 성분임을 알 수 있다."
   ]
  },
  {
   "cell_type": "markdown",
   "metadata": {},
   "source": [
    "앞만 대문자로 되어 있따 --> 클래스\n",
    "전부다 대문자로 되어 있따 --> 상수\n",
    "\n",
    "* C언어에서는 snake 표기법 예) input_params()\n",
    "* JAVA에서는  camel 표기법 예) inputParams()\n",
    "\n",
    "* 파이썬은 변수, 함수 -> snake / 클래스  -> camel (자바처럼)"
   ]
  },
  {
   "cell_type": "markdown",
   "metadata": {},
   "source": [
    "# 변수명 깔끔하게 짓기"
   ]
  },
  {
   "cell_type": "markdown",
   "metadata": {},
   "source": [
    "## 1. 함수명 : 동사 verb 사용하기\n",
    "ex) get_value, set_value\n",
    "\n",
    "## 2. 변수명\n",
    "\n",
    "1. 동사 X 전치사 X, 명사 사용 noun\n",
    "\n",
    "ex) number_of_workers (X) : 'of'라는 전치사 보다. 노동자의 수 말고 노동자 수\n",
    "\n",
    "worker_num / count_worker 이게 더 바람직\n",
    "\n",
    "세는 변수는 위 둘 중 하나 쓰는것이 일반적. count 보다 cnt\n",
    "\n",
    "2. 단수형 복수형 구분 잘해주기\n",
    "\n",
    "- 하나만 있는건 단수형, 리스트나 복수 데이터는 복수형\n",
    "\n",
    "## 3. 상수 : 값이 변하지 않기에 표시해주는 것이 좋음.\n",
    "\n",
    "ex) LAYER_SIZE = 6 / L = 6. 바뀌는 변수가 아니구나. 상수구나! 규칙을 알고 있으면 코드 해석이 편해짐\n",
    "\n",
    "## 4. 변수가 길면 적당히 자르세요.\n",
    "\n",
    "ex) information (X) info(O)"
   ]
  },
  {
   "cell_type": "markdown",
   "metadata": {},
   "source": [
    "range(len) 이런거 쓰는 것 보다 enumerate 해서 index랑 value 같이 쓰면 좋아요\n",
    "\n",
    "그런데 zip 쓰면 더 간지나요\n"
   ]
  },
  {
   "cell_type": "code",
   "execution_count": 5,
   "metadata": {},
   "outputs": [
    {
     "name": "stdout",
     "output_type": "stream",
     "text": [
      "[0, 2, 4, 6, 8, 10, 12, 14, 16, 18]\n"
     ]
    }
   ],
   "source": [
    "list1 = [x for x in range(10)]\n",
    "list2 = [x for x in range(10)]\n",
    "list3 = []\n",
    "\n",
    "for idx, value in enumerate(list1):\n",
    "    list3.append(value + list2[idx])\n",
    "print(list3)"
   ]
  },
  {
   "cell_type": "code",
   "execution_count": 8,
   "metadata": {},
   "outputs": [
    {
     "name": "stdout",
     "output_type": "stream",
     "text": [
      "[0, 2, 4, 6, 8, 10, 12, 14, 16, 18]\n"
     ]
    }
   ],
   "source": [
    "list1 = [x for x in range(10)]\n",
    "list2 = [x for x in range(10)]\n",
    "list3 = []\n",
    "\n",
    "for n1_n2 in zip(list1, list2): # 더 깔끔하고 간결\n",
    "    n1, n2 = n1_n2\n",
    "    list3.append(n1+n2)\n",
    "    \n",
    "print(list3)"
   ]
  },
  {
   "cell_type": "markdown",
   "metadata": {},
   "source": [
    "# zip 이용해서 더 멋있는걸 해봅시다"
   ]
  },
  {
   "cell_type": "code",
   "execution_count": 27,
   "metadata": {},
   "outputs": [
    {
     "name": "stdout",
     "output_type": "stream",
     "text": [
      "(9, 8, 7, 6, 5, 4, 3, 2, 1, 0)\n",
      "(19, 18, 17, 16, 15, 14, 13, 12, 11, 10)\n"
     ]
    }
   ],
   "source": [
    "list1 = [x for x in range(10)]\n",
    "list2 = [x for x in range(10,20)]\n",
    "\n",
    "#for list1, list2 in sorted(zip(list1, list2), reverse = True):\n",
    "#    print(list1,list2)\n",
    "\n",
    "for list1_list2 in zip(*sorted(zip(list1, list2), reverse = True)):\n",
    "    print(list1_list2)"
   ]
  },
  {
   "cell_type": "code",
   "execution_count": 36,
   "metadata": {},
   "outputs": [
    {
     "name": "stdout",
     "output_type": "stream",
     "text": [
      "(3, 4, 7, 5, 9, 0, 2, 8, 1, 6)\n",
      "(13, 14, 17, 15, 19, 10, 12, 18, 11, 16)\n"
     ]
    }
   ],
   "source": [
    "# 짝지은것 랜덤하게 섞기\n",
    "import random\n",
    "\n",
    "list1 = [x for x in range(10)]\n",
    "list2 = [x for x in range(10,20)]\n",
    "\n",
    "result = list(zip(list1,list2))\n",
    "\n",
    "random.shuffle(result)\n",
    "result\n",
    "\n",
    "list1, list2 = zip(*result)\n",
    "print(list1)\n",
    "print(list2)\n",
    "\n",
    "\n",
    "#list1 = [x for x in range(10)]\n",
    "#list2 = [x for x in range(10,20)]"
   ]
  }
 ],
 "metadata": {
  "kernelspec": {
   "display_name": "Python 3",
   "language": "python",
   "name": "python3"
  },
  "language_info": {
   "codemirror_mode": {
    "name": "ipython",
    "version": 3
   },
   "file_extension": ".py",
   "mimetype": "text/x-python",
   "name": "python",
   "nbconvert_exporter": "python",
   "pygments_lexer": "ipython3",
   "version": "3.7.4"
  }
 },
 "nbformat": 4,
 "nbformat_minor": 2
}
