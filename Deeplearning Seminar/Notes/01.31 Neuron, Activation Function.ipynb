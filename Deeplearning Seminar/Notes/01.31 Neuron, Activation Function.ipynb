{
 "cells": [
  {
   "cell_type": "markdown",
   "metadata": {},
   "source": [
    "# Neurons\n",
    "\n",
    "## Activation Function\n",
    "\n",
    "### Sigmoid Function\n",
    "\n",
    "시그모이드 함수 미분한 함수 그려보면\n",
    "\n",
    "x=0일 때 가장 높은 값을 가짐. 0 기준 양쪽으로 작아짐\n",
    "\n",
    "시그모이드 함수 통과하면 0 - 1.\n",
    "\n",
    "0.5일 때 activation value가 가장 높다.\n",
    "\n",
    "sigmoid & tanh는 애매한 것을 싫어함.\n",
    "\n",
    "0.5 일 때 가장 높다 -> 업데이트 많이 될 것.\n",
    "0.5 아니고 0 / 1에서 가까워지면 -> 업데이트 조금 된다 . (binary classification에서 0이 되거나 1이 될 확신이 높다)\n",
    "\n",
    "즉, sigmoid 미분함수에서 헷갈릴 때 가장 큰 값을 가진다.\n",
    "\n",
    "### tanh\n",
    "\n",
    "zero - centered 되어 있는 값을 activation value로 낸다. \n",
    "범위가 -1 ~ 1\n",
    "0일 때 가장 높다. -> tanh에서 x = 0 일 때. => 결과가 -1인지 1인지 잘 모를 때.\n",
    "\n",
    "* sig & tanh 공통점 ; 헷갈릴 때 초기단계에서 파라미터 업데이트가 제일 잘 된다.\n",
    "\n",
    "### ReLU\n",
    "\n",
    "sig& tanh에 비한 장점 : 연산이 굉장히 간단하다 (평균 5-6배 빠르다)\n",
    "비교 연산 한번만으로 activation value를 정할 수.\n",
    "\n",
    "문제점 ? 0이면 이론적으로는 미분 불가. chain rule에서는 0이 되면 안된다.\n",
    "but, 사실상 맘 놓고 써도 됨. 이 값을 정확히 가질 때는 거의 없기 때문에 딥러닝에서는 마음 놓고 써도 됨.\n",
    "\n"
   ]
  },
  {
   "cell_type": "markdown",
   "metadata": {},
   "source": [
    "sigmoid vs tanh\n",
    "\n",
    "시그모이드는 0-1\n",
    "tanh 는 -1에서 1까지니까 절댓값...................................\n",
    "\n",
    "* Vanishing Gradient Problem\n",
    "\n",
    "시그모이드 미분 함수 : 최대 0.25. 레이어가 많아질 수록 0.25 보다 작은 값이 계속 곱해짐\n",
    "tanh 미분 함수 : 최대 1.\n",
    "\n",
    "시그모이드 같은 경우 다음 레이어로 보내는 값들이 zero- centered가 아님.\n",
    "\n",
    "헷갈리면 헷갈릴 수록 업데이트가 많이 된다. (초기단계에서)\n",
    "tan h 미분식 그린 함수에서 x = 0일 때 가장 큰 값인 1. 0이면 가장 헷갈린다는 뜻.\n",
    "\n"
   ]
  },
  {
   "cell_type": "markdown",
   "metadata": {},
   "source": [
    "*참고! sigmoid는 logistic에 포함된다.*"
   ]
  },
  {
   "cell_type": "markdown",
   "metadata": {},
   "source": [
    "### Sigmoid VS tanh\n",
    "\n",
    "tanh도 레이어가 깊어지면 시그모이드 같은 vanishing gradient descent 문제 생길 수.\n"
   ]
  }
 ],
 "metadata": {
  "kernelspec": {
   "display_name": "Python 3",
   "language": "python",
   "name": "python3"
  },
  "language_info": {
   "codemirror_mode": {
    "name": "ipython",
    "version": 3
   },
   "file_extension": ".py",
   "mimetype": "text/x-python",
   "name": "python",
   "nbconvert_exporter": "python",
   "pygments_lexer": "ipython3",
   "version": "3.7.4"
  }
 },
 "nbformat": 4,
 "nbformat_minor": 2
}
