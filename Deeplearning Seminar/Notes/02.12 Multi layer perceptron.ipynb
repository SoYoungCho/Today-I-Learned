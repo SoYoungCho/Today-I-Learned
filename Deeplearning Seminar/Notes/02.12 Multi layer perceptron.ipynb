{
 "cells": [
  {
   "cell_type": "markdown",
   "metadata": {},
   "source": [
    "# 저번 시간 복습\n",
    "\n",
    "Multi layer perceptron is about calibrating cascaded filterbanks\n",
    "\n",
    "weight들은 filter banks  \n",
    "cascade : 시리얼로 이어진 것  \n",
    "calibration : 내부 파라미터들 조정하는 것. (영어 단어 뜻은 '교정')  \n",
    "\n",
    "softmax : 로짓으로부터 확률을 만들어내는 장치\n"
   ]
  },
  {
   "cell_type": "markdown",
   "metadata": {},
   "source": [
    "# 어떻게 필터 weight가 학습될까?"
   ]
  },
  {
   "cell_type": "markdown",
   "metadata": {},
   "source": [
    "### MNIST 분류 예제 원리 이해하기 \n",
    "\n",
    "필터의 픽셀 값들은 랜덤으로 주어져 있다 (초기값)\n",
    "\n",
    "랜덤으로 초기화된 필터가 **필터 0**을 만나면 **필터 0**의 밝은 부분(1)이 곱해지고 더해져서 필터 0의 모습을 닮아간다.  \n",
    "그런데 1의 필터도 같이 학습시키면 겹치는 부분은 픽셀값이 작다 (이 픽셀값은 로짓값)\n",
    "--> 픽셀값을 조정하는 것은 닮은 정도를 계산하는 correlation 으로 하는 것.\n",
    "\n",
    "그런데, 같은 1을 넣더라도 1은 다 다르게 쓰이기 때문에 업데이트 되는 weight 위치가 다 다르다. \n",
    "(더했다가 뺐다가..)\n",
    "\n",
    "첫 번째 레이어의 아웃풋 : 2개\n",
    "\n",
    "다음에 이어서 필기. (가능하면 복습하고 다시 정리. 어렵당)"
   ]
  }
 ],
 "metadata": {
  "kernelspec": {
   "display_name": "Python 3",
   "language": "python",
   "name": "python3"
  },
  "language_info": {
   "codemirror_mode": {
    "name": "ipython",
    "version": 3
   },
   "file_extension": ".py",
   "mimetype": "text/x-python",
   "name": "python",
   "nbconvert_exporter": "python",
   "pygments_lexer": "ipython3",
   "version": "3.7.4"
  }
 },
 "nbformat": 4,
 "nbformat_minor": 2
}
