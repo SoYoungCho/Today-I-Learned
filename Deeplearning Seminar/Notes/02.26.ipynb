{
 "cells": [
  {
   "cell_type": "markdown",
   "metadata": {},
   "source": [
    "## HOG Extractor 구현 \n",
    "\n",
    "numpy, from scipy import signal, cv2, matplotlib.pyplot as plt 를 import 하기.\n",
    "\n",
    "img = cv.imread 로 이미지 읽음.   \n",
    "img = 255 - img 하면 반전시켜줄 수 있음. (흰->검, 검-> 흰)\n",
    "\n",
    "HOG extractor 구현한 부분을 함수를 for문으로 불러오면 3중 for문 까지 불필요.\n",
    "\n",
    "fig, ax = plt.subplots  \n",
    "ax.img   \n",
    "\n",
    "H,W = img.shape  \n",
    "for h in range(H)  \n",
    "    for w in range(W) 이렇게 하면 이미지 사이즈가 달라져도 쓸 수 있음  "
   ]
  }
 ],
 "metadata": {
  "kernelspec": {
   "display_name": "Python 3",
   "language": "python",
   "name": "python3"
  },
  "language_info": {
   "codemirror_mode": {
    "name": "ipython",
    "version": 3
   },
   "file_extension": ".py",
   "mimetype": "text/x-python",
   "name": "python",
   "nbconvert_exporter": "python",
   "pygments_lexer": "ipython3",
   "version": "3.7.4"
  }
 },
 "nbformat": 4,
 "nbformat_minor": 2
}
