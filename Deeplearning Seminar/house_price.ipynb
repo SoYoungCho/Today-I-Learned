{
 "cells": [
  {
   "cell_type": "markdown",
   "metadata": {},
   "source": [
    "# House Price Prediction through Logistic Regression"
   ]
  },
  {
   "cell_type": "markdown",
   "metadata": {},
   "source": [
    "## 1. 데이터 탐색\n",
    "\n",
    "### 1.1 문제 정의\n",
    "본 과제의 목적은 집의 정보를 이용해 가격을 예측하는 것이다.\n",
    "단, 각 feature들의 parameter들을 update 하는 Backpropagation 과정을 직접 구현하여 Regression 을 진행한다."
   ]
  },
  {
   "cell_type": "code",
   "execution_count": 1,
   "metadata": {},
   "outputs": [],
   "source": [
    "import numpy as np\n",
    "import pandas as pd\n",
    "import matplotlib.pyplot as plt\n",
    "import seaborn as sns"
   ]
  },
  {
   "cell_type": "code",
   "execution_count": 2,
   "metadata": {},
   "outputs": [],
   "source": [
    "data = pd.read_csv(\"Real estate.csv\")"
   ]
  },
  {
   "cell_type": "code",
   "execution_count": 3,
   "metadata": {},
   "outputs": [
    {
     "name": "stdout",
     "output_type": "stream",
     "text": [
      "(414, 8)\n"
     ]
    }
   ],
   "source": [
    "print(data.shape)"
   ]
  },
  {
   "cell_type": "code",
   "execution_count": 4,
   "metadata": {},
   "outputs": [
    {
     "data": {
      "text/plain": [
       "No                                        0\n",
       "X1 transaction date                       0\n",
       "X2 house age                              0\n",
       "X3 distance to the nearest MRT station    0\n",
       "X4 number of convenience stores           0\n",
       "X5 latitude                               0\n",
       "X6 longitude                              0\n",
       "Y house price of unit area                0\n",
       "dtype: int64"
      ]
     },
     "execution_count": 4,
     "metadata": {},
     "output_type": "execute_result"
    }
   ],
   "source": [
    "data.isnull().sum() #checking for total null values"
   ]
  },
  {
   "cell_type": "markdown",
   "metadata": {},
   "source": [
    "데이터의 전체 개수는 414개이며, 변수(feature)의 개수는 7개이다.\n",
    "결측값(null data)은 없다."
   ]
  },
  {
   "cell_type": "markdown",
   "metadata": {},
   "source": [
    "### 1.2 변수 설명\n",
    "\n",
    "* No : 집을 구분하는 번호 (index)\n",
    "* X1 transaction date : 집 거래 날짜\n",
    "* X2 house age : 집이 얼마나 오래 되었는지 (지은 뒤 흐른 시간)\n",
    "* X3 distance to the nearest MRT station : 가장 가까운 대중교통까지의 거리 (Mass Rapid Transit)\n",
    "* X4 number of convenience stores : 근처 편의점 개수\n",
    "* X5 latitude : 경도\n",
    "* X6 longitude : 위도\n",
    "* Y house price of unit area : 집의 가격 (Target Variable)"
   ]
  },
  {
   "cell_type": "code",
   "execution_count": 5,
   "metadata": {},
   "outputs": [],
   "source": [
    "var_list =  ['No','X1 transaction date','X2 house age','X3 distance to the nearest MRT station',\n",
    "             'X4 number of convenience stores','X5 latitude','X6 longitude','Y house price of unit area']"
   ]
  },
  {
   "cell_type": "code",
   "execution_count": 6,
   "metadata": {
    "scrolled": true
   },
   "outputs": [
    {
     "data": {
      "text/html": [
       "<div>\n",
       "<style scoped>\n",
       "    .dataframe tbody tr th:only-of-type {\n",
       "        vertical-align: middle;\n",
       "    }\n",
       "\n",
       "    .dataframe tbody tr th {\n",
       "        vertical-align: top;\n",
       "    }\n",
       "\n",
       "    .dataframe thead th {\n",
       "        text-align: right;\n",
       "    }\n",
       "</style>\n",
       "<table border=\"1\" class=\"dataframe\">\n",
       "  <thead>\n",
       "    <tr style=\"text-align: right;\">\n",
       "      <th></th>\n",
       "      <th>No</th>\n",
       "      <th>X1 transaction date</th>\n",
       "      <th>X2 house age</th>\n",
       "      <th>X3 distance to the nearest MRT station</th>\n",
       "      <th>X4 number of convenience stores</th>\n",
       "      <th>X5 latitude</th>\n",
       "      <th>X6 longitude</th>\n",
       "      <th>Y house price of unit area</th>\n",
       "    </tr>\n",
       "  </thead>\n",
       "  <tbody>\n",
       "    <tr>\n",
       "      <td>0</td>\n",
       "      <td>1</td>\n",
       "      <td>2012.917</td>\n",
       "      <td>32.0</td>\n",
       "      <td>84.87882</td>\n",
       "      <td>10</td>\n",
       "      <td>24.98298</td>\n",
       "      <td>121.54024</td>\n",
       "      <td>37.9</td>\n",
       "    </tr>\n",
       "    <tr>\n",
       "      <td>1</td>\n",
       "      <td>2</td>\n",
       "      <td>2012.917</td>\n",
       "      <td>19.5</td>\n",
       "      <td>306.59470</td>\n",
       "      <td>9</td>\n",
       "      <td>24.98034</td>\n",
       "      <td>121.53951</td>\n",
       "      <td>42.2</td>\n",
       "    </tr>\n",
       "    <tr>\n",
       "      <td>2</td>\n",
       "      <td>3</td>\n",
       "      <td>2013.583</td>\n",
       "      <td>13.3</td>\n",
       "      <td>561.98450</td>\n",
       "      <td>5</td>\n",
       "      <td>24.98746</td>\n",
       "      <td>121.54391</td>\n",
       "      <td>47.3</td>\n",
       "    </tr>\n",
       "    <tr>\n",
       "      <td>3</td>\n",
       "      <td>4</td>\n",
       "      <td>2013.500</td>\n",
       "      <td>13.3</td>\n",
       "      <td>561.98450</td>\n",
       "      <td>5</td>\n",
       "      <td>24.98746</td>\n",
       "      <td>121.54391</td>\n",
       "      <td>54.8</td>\n",
       "    </tr>\n",
       "    <tr>\n",
       "      <td>4</td>\n",
       "      <td>5</td>\n",
       "      <td>2012.833</td>\n",
       "      <td>5.0</td>\n",
       "      <td>390.56840</td>\n",
       "      <td>5</td>\n",
       "      <td>24.97937</td>\n",
       "      <td>121.54245</td>\n",
       "      <td>43.1</td>\n",
       "    </tr>\n",
       "  </tbody>\n",
       "</table>\n",
       "</div>"
      ],
      "text/plain": [
       "   No  X1 transaction date  X2 house age  \\\n",
       "0   1             2012.917          32.0   \n",
       "1   2             2012.917          19.5   \n",
       "2   3             2013.583          13.3   \n",
       "3   4             2013.500          13.3   \n",
       "4   5             2012.833           5.0   \n",
       "\n",
       "   X3 distance to the nearest MRT station  X4 number of convenience stores  \\\n",
       "0                                84.87882                               10   \n",
       "1                               306.59470                                9   \n",
       "2                               561.98450                                5   \n",
       "3                               561.98450                                5   \n",
       "4                               390.56840                                5   \n",
       "\n",
       "   X5 latitude  X6 longitude  Y house price of unit area  \n",
       "0     24.98298     121.54024                        37.9  \n",
       "1     24.98034     121.53951                        42.2  \n",
       "2     24.98746     121.54391                        47.3  \n",
       "3     24.98746     121.54391                        54.8  \n",
       "4     24.97937     121.54245                        43.1  "
      ]
     },
     "execution_count": 6,
     "metadata": {},
     "output_type": "execute_result"
    }
   ],
   "source": [
    "data.head()"
   ]
  },
  {
   "cell_type": "markdown",
   "metadata": {},
   "source": [
    "### 1.3 변수 시각화 (목적변수 - 집의 가격)"
   ]
  },
  {
   "cell_type": "code",
   "execution_count": 7,
   "metadata": {},
   "outputs": [
    {
     "data": {
      "text/plain": [
       "count    414.000000\n",
       "mean      37.980193\n",
       "std       13.606488\n",
       "min        7.600000\n",
       "25%       27.700000\n",
       "50%       38.450000\n",
       "75%       46.600000\n",
       "max      117.500000\n",
       "Name: Y house price of unit area, dtype: float64"
      ]
     },
     "execution_count": 7,
     "metadata": {},
     "output_type": "execute_result"
    }
   ],
   "source": [
    "# descriptive statistics summary (기술적 통계)\n",
    "data['Y house price of unit area'].describe()"
   ]
  },
  {
   "cell_type": "markdown",
   "metadata": {},
   "source": [
    "target variable인 집의 가격에 대한 통계 summary는 위와 같다.\n",
    "가장 싼 집(min)은 7.6, 가장 비싼 집(max)은 117.5이며 평균가는 약 38이다."
   ]
  },
  {
   "cell_type": "code",
   "execution_count": 8,
   "metadata": {},
   "outputs": [
    {
     "data": {
      "image/png": "[encoded data removed]",
      "text/plain": [
       "<Figure size 576x432 with 1 Axes>"
      ]
     },
     "metadata": {
      "needs_background": "light"
     },
     "output_type": "display_data"
    }
   ],
   "source": [
    "# histogram\n",
    "f, ax = plt.subplots(figsize = (8,6))\n",
    "sns.distplot(data['Y house price of unit area'])\n",
    "plt.show()"
   ]
  },
  {
   "cell_type": "markdown",
   "metadata": {},
   "source": [
    "target variable인 집값의 분포를 히스토그램을 통해 확인해보았다.\n",
    "정규분포를 따르도록 Normalize(정규화) 해주어야 함을 알 수 있다."
   ]
  },
  {
   "cell_type": "markdown",
   "metadata": {},
   "source": [
    "### 1.4 변수 간 관계 파악 (correlation)"
   ]
  },
  {
   "cell_type": "code",
   "execution_count": null,
   "metadata": {},
   "outputs": [],
   "source": [
    "sns.heatmap(data.corr(), fmt = '.2f', annot=True,square = True, cmap = 'RdYlGn', linewidths = 0.2, annot_kws={\"size\": 20})\n",
    "fig = plt.gcf()\n",
    "fig.set_size_inches(15,15)\n",
    "plt.xticks(fontsize=20)\n",
    "plt.yticks(fontsize=20)\n",
    "plt.show()"
   ]
  },
  {
   "cell_type": "markdown",
   "metadata": {},
   "source": [
    "#### 집 값(Y)과 상관도가 상대적으로 높은 변수들은 다음과 같다.\n",
    "\n",
    "1. X3 distance to the neares MRT station : - 0.67 (음의 상관관계)\n",
    "2. X4 num of convinence store : 0.57 (양의 상관관계)\n",
    "3. X5 latitude : 0.55 (양의 상관관계)\n",
    "4. X6 longtitude : 0.52 (양의 상관관계)\n",
    "\n",
    "#### 집 값(Y)과 상관도가 상대적으로 낮은 (0에 가까운) 변수들은 다음과 같다. (No 제외)\n",
    "\n",
    "1. X1 transaction date : 0.09\n",
    "2. X2 house date : -0.21"
   ]
  },
  {
   "cell_type": "markdown",
   "metadata": {},
   "source": [
    "그런데, 변수들 간 높은 상관관계를 보이는 변수들이 있다.\n",
    "\n",
    "#### Multicollinearity (다중 공선성)\n",
    "\n",
    "회귀분석에서 변수들 간에 강한 상관관계가 나타나는 문제. 적절한 회귀분석을 위해 해결해야 하는 문제가 된다.\n",
    "상관관계가 높은 변수를 제거하여 해결할 수 있다.\n",
    "\n",
    "When predictor variables in the same regression model are correlated, they cannot independently predict the value of the dependent variable. In other words, they explain some of the same variance in the dependent variable, which in turn reduces their statistical significance. Multicollinearity describes a situation in which more than two predictor variables are associated so that, when all are included in the model, a decrease in statistical significance is observed.\n",
    "\n",
    "1. X3 & X6 : -0.81 (높은 음의 상관관계)\n",
    "2. X3 & X4 : -0.60\n",
    "3. X3 & X5 : -0.59"
   ]
  },
  {
   "cell_type": "markdown",
   "metadata": {},
   "source": [
    "### 1.5 각 변수의 분포 시각화"
   ]
  },
  {
   "cell_type": "code",
   "execution_count": null,
   "metadata": {
    "scrolled": false
   },
   "outputs": [],
   "source": [
    "data_plot = pd.concat([data['Y house price of unit area'], data['X2 house age']], axis=1)\n",
    "f, ax = plt.subplots(figsize=(8, 6))\n",
    "fig = sns.regplot(x='X2 house age', y=\"Y house price of unit area\", data=data_plot)"
   ]
  },
  {
   "cell_type": "code",
   "execution_count": null,
   "metadata": {},
   "outputs": [],
   "source": [
    "sns.distplot(data['X2 house age'], kde=True, rug=True)\n",
    "plt.title(\"Distribution Plot of X2 house age\")\n",
    "plt.show()"
   ]
  },
  {
   "cell_type": "markdown",
   "metadata": {},
   "source": []
  },
  {
   "cell_type": "code",
   "execution_count": null,
   "metadata": {
    "scrolled": false
   },
   "outputs": [],
   "source": [
    "data_plot = pd.concat([data['Y house price of unit area'], data['X3 distance to the nearest MRT station']], axis=1)\n",
    "f, ax = plt.subplots(figsize=(8, 6))\n",
    "fig = sns.regplot(x='X3 distance to the nearest MRT station', y=\"Y house price of unit area\", data=data_plot)\n"
   ]
  },
  {
   "cell_type": "code",
   "execution_count": null,
   "metadata": {},
   "outputs": [],
   "source": [
    "sns.distplot(data['X3 distance to the nearest MRT station'], kde=True, rug=True)\n",
    "plt.title(\"Distribution Plot of X3 distance to the nearest MRT station\")\n",
    "plt.show()"
   ]
  },
  {
   "cell_type": "code",
   "execution_count": null,
   "metadata": {
    "scrolled": false
   },
   "outputs": [],
   "source": [
    "data_plot = pd.concat([data['Y house price of unit area'], data['X4 number of convenience stores']], axis=1)\n",
    "f, ax = plt.subplots(figsize=(8, 6))\n",
    "fig = sns.boxplot(x='X4 number of convenience stores', y=\"Y house price of unit area\", data=data_plot)"
   ]
  },
  {
   "cell_type": "code",
   "execution_count": null,
   "metadata": {},
   "outputs": [],
   "source": [
    "sns.distplot(data['X4 number of convenience stores'], kde=True, rug=True)\n",
    "plt.title(\"Distribution Plot of X4 number of convenience stores\")\n",
    "plt.show()"
   ]
  },
  {
   "cell_type": "code",
   "execution_count": null,
   "metadata": {
    "scrolled": false
   },
   "outputs": [],
   "source": [
    "data_plot = pd.concat([data['Y house price of unit area'], data['X5 latitude']], axis=1)\n",
    "f, ax = plt.subplots(figsize=(8, 6))\n",
    "fig = sns.regplot(x='X5 latitude', y=\"Y house price of unit area\", data=data_plot)"
   ]
  },
  {
   "cell_type": "code",
   "execution_count": null,
   "metadata": {},
   "outputs": [],
   "source": [
    "sns.distplot(data['X5 latitude'], kde=True, rug=True)\n",
    "plt.title(\"Distribution Plot of X5 latitude\")\n",
    "plt.show()"
   ]
  },
  {
   "cell_type": "code",
   "execution_count": null,
   "metadata": {
    "scrolled": false
   },
   "outputs": [],
   "source": [
    "data_plot = pd.concat([data['Y house price of unit area'], data['X6 longitude']], axis=1)\n",
    "f, ax = plt.subplots(figsize=(8, 6))\n",
    "fig = sns.regplot(x='X6 longitude', y=\"Y house price of unit area\", data=data_plot)"
   ]
  },
  {
   "cell_type": "code",
   "execution_count": null,
   "metadata": {},
   "outputs": [],
   "source": [
    "sns.distplot(data['X6 longitude'], kde=True, rug=True)\n",
    "plt.title(\"Distribution Plot of X6 longitude\")\n",
    "plt.show()"
   ]
  },
  {
   "cell_type": "markdown",
   "metadata": {},
   "source": [
    "각 변수 별 데이터 분포를 그려보니 분포 그래프가 너무 기울어져 있거나 쏠려 있으며, 변수 간 데이터 단위의 차이 또한 크다.\n",
    "\n",
    "예를 들어, 변수 X3 Dist to the nearest MRT station의 데이터 범위는 약 -1000에서 7000까지로 범위가 크며, 수의 단위도 천 단위인 반면, 변수 X2 House Age의 데이터 범위는 0에서 45 정도로 십의 자리 단위의 데이터이다. \n",
    "\n",
    "이렇게 변수 간 데이터의 단위 차이가 클 경우, 배웠듯이 각 theta값 (파라미터) 학습이 속도가 달라져 원하는 결과가 나오지 못하게 될 수 있다.\n",
    "\n",
    "정규화 하기 전에 각 변수 데이터의 평균과 표준편차를 출력하면 다음과 같다."
   ]
  },
  {
   "cell_type": "code",
   "execution_count": null,
   "metadata": {
    "scrolled": false
   },
   "outputs": [],
   "source": [
    "for var in var_list:\n",
    "    print(var,\"의 mean : \",data[var].mean())\n",
    "    print(var,\"의 std : \",data[var].std())\n",
    "    print(\"\\n\")"
   ]
  },
  {
   "cell_type": "markdown",
   "metadata": {},
   "source": [
    "다양한 정규화 방법 중, 각 변수 데이터의 평균으로 빼준 뒤 표준편차로 나누어 주는 정규화 방법을 선택해 정규화를 이후 진행한다.\n",
    "\n",
    "![](https://mblogthumb-phinf.pstatic.net/MjAxODA2MjlfMTEz/MDAxNTMwMjAyMzgyNjE4.f-v7gKNUP1ryinUgrzOEvHgLKHoFv8DJkMJJ7aYAF_sg.C0DJ_D54LoQlvw0miyTEXdi4UczS7h1XrVegcaHQ5vQg.PNG.algosn/image.png?type=w800)"
   ]
  },
  {
   "cell_type": "markdown",
   "metadata": {},
   "source": [
    "## 2. 데이터 전처리\n",
    "\n",
    "### 2.1 이상치 제거\n",
    "\n",
    "각 변수의 분포 그래프를 그려보았을 때, 집 값이 유난히 높은 데이터가 눈에 띄었다. 본 outlier를 제거한다."
   ]
  },
  {
   "cell_type": "code",
   "execution_count": null,
   "metadata": {},
   "outputs": [],
   "source": [
    "data.loc[data['Y house price of unit area'] > 100]"
   ]
  },
  {
   "cell_type": "code",
   "execution_count": null,
   "metadata": {},
   "outputs": [],
   "source": [
    "data = data.loc[data['No']!=271]"
   ]
  },
  {
   "cell_type": "markdown",
   "metadata": {},
   "source": [
    "### 2.2 정규화"
   ]
  },
  {
   "cell_type": "code",
   "execution_count": null,
   "metadata": {},
   "outputs": [],
   "source": [
    "for var in var_list:\n",
    "    data[var] = (data[var] - data[var].mean())/ data[var].std()\n",
    "    print(var,\"의 정규화 후 mean : \",data[var].mean())\n",
    "    print(var,\"의 정규화 후 std : \",data[var].std())\n",
    "    print(\"\\n\")"
   ]
  },
  {
   "cell_type": "markdown",
   "metadata": {},
   "source": [
    "## 1.6 정규화 후 변수 간 관계 파악"
   ]
  },
  {
   "cell_type": "code",
   "execution_count": null,
   "metadata": {
    "scrolled": false
   },
   "outputs": [],
   "source": [
    "sns.heatmap(data.corr(), fmt = '.2f', annot=True,square = True, cmap = 'RdYlGn', linewidths = 0.2, annot_kws={\"size\": 20})\n",
    "fig = plt.gcf()\n",
    "fig.set_size_inches(15,15)\n",
    "plt.xticks(fontsize=20)\n",
    "plt.yticks(fontsize=20)\n",
    "plt.show()"
   ]
  },
  {
   "cell_type": "markdown",
   "metadata": {},
   "source": [
    "정규화 후 변수(feature) 간 상관관계를 보여주는 히트맵을 다시 그려보았다.\n",
    "정규화를 하더라도 데이터의 성격은 변하지 않기 때문에 정규화 전후에 거의 차이가 없음을 알 수 있다."
   ]
  },
  {
   "cell_type": "markdown",
   "metadata": {},
   "source": [
    "## 정규화 후 각 변수의 분포 시각화"
   ]
  },
  {
   "cell_type": "code",
   "execution_count": null,
   "metadata": {},
   "outputs": [],
   "source": [
    "sns.distplot(data['X2 house age'], kde=True, rug=True)\n",
    "plt.title(\"Normalized Distribution Plot of X2 house age\")\n",
    "plt.show()"
   ]
  },
  {
   "cell_type": "code",
   "execution_count": null,
   "metadata": {},
   "outputs": [],
   "source": [
    "data_plot = pd.concat([data['Y house price of unit area'], data['X2 house age']], axis=1)\n",
    "f, ax = plt.subplots(figsize=(8, 6))\n",
    "fig = sns.regplot(x='X2 house age', y=\"Y house price of unit area\", data=data_plot)"
   ]
  },
  {
   "cell_type": "code",
   "execution_count": null,
   "metadata": {},
   "outputs": [],
   "source": [
    "sns.distplot(data['X3 distance to the nearest MRT station'], kde=True, rug=True)\n",
    "plt.title(\"Normalized Distribution Plot of X3 distance to the nearest MRT station\")\n",
    "plt.show()"
   ]
  },
  {
   "cell_type": "code",
   "execution_count": null,
   "metadata": {},
   "outputs": [],
   "source": [
    "data_plot = pd.concat([data['Y house price of unit area'], data['X3 distance to the nearest MRT station']], axis=1)\n",
    "f, ax = plt.subplots(figsize=(8, 6))\n",
    "fig = sns.regplot(x='X3 distance to the nearest MRT station', y=\"Y house price of unit area\", data=data_plot)"
   ]
  },
  {
   "cell_type": "code",
   "execution_count": null,
   "metadata": {},
   "outputs": [],
   "source": [
    "sns.distplot(data['X4 number of convenience stores'], kde=True, rug=True)\n",
    "plt.title(\"Normalized Distribution Plot of X4 number of convenience stores\")\n",
    "plt.show()"
   ]
  },
  {
   "cell_type": "code",
   "execution_count": null,
   "metadata": {},
   "outputs": [],
   "source": [
    "data_plot = pd.concat([data['Y house price of unit area'], data['X4 number of convenience stores']], axis=1)\n",
    "f, ax = plt.subplots(figsize=(8, 6))\n",
    "fig = sns.boxplot(x='X4 number of convenience stores', y=\"Y house price of unit area\", data=data_plot)"
   ]
  },
  {
   "cell_type": "code",
   "execution_count": null,
   "metadata": {},
   "outputs": [],
   "source": [
    "sns.distplot(data['X5 latitude'], kde=True, rug=True)\n",
    "plt.title(\"Normalized Distribution Plot of X5 latitude\")\n",
    "plt.show()"
   ]
  },
  {
   "cell_type": "code",
   "execution_count": null,
   "metadata": {},
   "outputs": [],
   "source": [
    "data_plot = pd.concat([data['Y house price of unit area'], data['X5 latitude']], axis=1)\n",
    "f, ax = plt.subplots(figsize=(8, 6))\n",
    "fig = sns.regplot(x='X5 latitude', y=\"Y house price of unit area\", data=data_plot)"
   ]
  },
  {
   "cell_type": "code",
   "execution_count": null,
   "metadata": {},
   "outputs": [],
   "source": [
    "sns.distplot(data['X6 longitude'], kde=True, rug=True)\n",
    "plt.title(\"Normalized Distribution Plot of X6 longitude\")\n",
    "plt.show()"
   ]
  },
  {
   "cell_type": "code",
   "execution_count": null,
   "metadata": {},
   "outputs": [],
   "source": [
    "data_plot = pd.concat([data['Y house price of unit area'], data['X6 longitude']], axis=1)\n",
    "f, ax = plt.subplots(figsize=(8, 6))\n",
    "fig = sns.regplot(x='X6 longitude', y=\"Y house price of unit area\", data=data_plot)"
   ]
  },
  {
   "cell_type": "markdown",
   "metadata": {},
   "source": [
    "각 변수에 대해 정규화 한 결과, 각 변수 데이터의 평균과 표준편차가 맞춰져 데이터의 단위도 일정하게 정규화 되었다.정규화 하였으니 각 변수 별 theta값(파라미터) 학습이 비슷한 속도로 진행될 수 있게 되었다."
   ]
  },
  {
   "cell_type": "markdown",
   "metadata": {},
   "source": [
    "## 3. 변수 수정\n",
    "\n",
    "상관관계 히트맵을 통해 파악할 수 있었듯, 타겟변수 집 값(Y)과 상관관계가 상대적으로 낮은 변수들에는 X1 transaction date과 X2 house date 이 있었다. 반면, 다른 변수들 간 상관관계가 높은 변수로는 X3가 있었다.\n",
    "\n",
    "불필요한 변수가 지나치게 많을 경우, 오버피팅 될 가능성이 높다. 또한 변수들 간 상관관계가 높을 경우, 타겟변수를 독립적으로 예측하지 못해 모델의 유의성을 떨어뜨리는 다중공선성의 문제도 발생할 수 있었다.\n",
    "\n",
    "따라서 더 높은 집값 예측 정확도와 높은 모델의 신뢰성을 위해 인덱스에 해당하는 No를 포함하여, X1, X2, X3 변수를 삭제하였다."
   ]
  },
  {
   "cell_type": "code",
   "execution_count": 9,
   "metadata": {},
   "outputs": [
    {
     "data": {
      "text/html": [
       "<div>\n",
       "<style scoped>\n",
       "    .dataframe tbody tr th:only-of-type {\n",
       "        vertical-align: middle;\n",
       "    }\n",
       "\n",
       "    .dataframe tbody tr th {\n",
       "        vertical-align: top;\n",
       "    }\n",
       "\n",
       "    .dataframe thead th {\n",
       "        text-align: right;\n",
       "    }\n",
       "</style>\n",
       "<table border=\"1\" class=\"dataframe\">\n",
       "  <thead>\n",
       "    <tr style=\"text-align: right;\">\n",
       "      <th></th>\n",
       "      <th>No</th>\n",
       "      <th>X1 transaction date</th>\n",
       "      <th>X2 house age</th>\n",
       "      <th>X3 distance to the nearest MRT station</th>\n",
       "      <th>X4 number of convenience stores</th>\n",
       "      <th>X5 latitude</th>\n",
       "      <th>X6 longitude</th>\n",
       "      <th>Y house price of unit area</th>\n",
       "    </tr>\n",
       "  </thead>\n",
       "  <tbody>\n",
       "    <tr>\n",
       "      <td>0</td>\n",
       "      <td>1</td>\n",
       "      <td>2012.917</td>\n",
       "      <td>32.0</td>\n",
       "      <td>84.87882</td>\n",
       "      <td>10</td>\n",
       "      <td>24.98298</td>\n",
       "      <td>121.54024</td>\n",
       "      <td>37.9</td>\n",
       "    </tr>\n",
       "    <tr>\n",
       "      <td>1</td>\n",
       "      <td>2</td>\n",
       "      <td>2012.917</td>\n",
       "      <td>19.5</td>\n",
       "      <td>306.59470</td>\n",
       "      <td>9</td>\n",
       "      <td>24.98034</td>\n",
       "      <td>121.53951</td>\n",
       "      <td>42.2</td>\n",
       "    </tr>\n",
       "    <tr>\n",
       "      <td>2</td>\n",
       "      <td>3</td>\n",
       "      <td>2013.583</td>\n",
       "      <td>13.3</td>\n",
       "      <td>561.98450</td>\n",
       "      <td>5</td>\n",
       "      <td>24.98746</td>\n",
       "      <td>121.54391</td>\n",
       "      <td>47.3</td>\n",
       "    </tr>\n",
       "    <tr>\n",
       "      <td>3</td>\n",
       "      <td>4</td>\n",
       "      <td>2013.500</td>\n",
       "      <td>13.3</td>\n",
       "      <td>561.98450</td>\n",
       "      <td>5</td>\n",
       "      <td>24.98746</td>\n",
       "      <td>121.54391</td>\n",
       "      <td>54.8</td>\n",
       "    </tr>\n",
       "    <tr>\n",
       "      <td>4</td>\n",
       "      <td>5</td>\n",
       "      <td>2012.833</td>\n",
       "      <td>5.0</td>\n",
       "      <td>390.56840</td>\n",
       "      <td>5</td>\n",
       "      <td>24.97937</td>\n",
       "      <td>121.54245</td>\n",
       "      <td>43.1</td>\n",
       "    </tr>\n",
       "  </tbody>\n",
       "</table>\n",
       "</div>"
      ],
      "text/plain": [
       "   No  X1 transaction date  X2 house age  \\\n",
       "0   1             2012.917          32.0   \n",
       "1   2             2012.917          19.5   \n",
       "2   3             2013.583          13.3   \n",
       "3   4             2013.500          13.3   \n",
       "4   5             2012.833           5.0   \n",
       "\n",
       "   X3 distance to the nearest MRT station  X4 number of convenience stores  \\\n",
       "0                                84.87882                               10   \n",
       "1                               306.59470                                9   \n",
       "2                               561.98450                                5   \n",
       "3                               561.98450                                5   \n",
       "4                               390.56840                                5   \n",
       "\n",
       "   X5 latitude  X6 longitude  Y house price of unit area  \n",
       "0     24.98298     121.54024                        37.9  \n",
       "1     24.98034     121.53951                        42.2  \n",
       "2     24.98746     121.54391                        47.3  \n",
       "3     24.98746     121.54391                        54.8  \n",
       "4     24.97937     121.54245                        43.1  "
      ]
     },
     "execution_count": 9,
     "metadata": {},
     "output_type": "execute_result"
    }
   ],
   "source": [
    "data.head()"
   ]
  },
  {
   "cell_type": "code",
   "execution_count": 10,
   "metadata": {},
   "outputs": [],
   "source": [
    "del data['No']\n",
    "del data['X1 transaction date']\n",
    "del data['X2 house age']\n",
    "del data['X3 distance to the nearest MRT station']"
   ]
  },
  {
   "cell_type": "code",
   "execution_count": 11,
   "metadata": {},
   "outputs": [
    {
     "data": {
      "text/html": [
       "<div>\n",
       "<style scoped>\n",
       "    .dataframe tbody tr th:only-of-type {\n",
       "        vertical-align: middle;\n",
       "    }\n",
       "\n",
       "    .dataframe tbody tr th {\n",
       "        vertical-align: top;\n",
       "    }\n",
       "\n",
       "    .dataframe thead th {\n",
       "        text-align: right;\n",
       "    }\n",
       "</style>\n",
       "<table border=\"1\" class=\"dataframe\">\n",
       "  <thead>\n",
       "    <tr style=\"text-align: right;\">\n",
       "      <th></th>\n",
       "      <th>X4 number of convenience stores</th>\n",
       "      <th>X5 latitude</th>\n",
       "      <th>X6 longitude</th>\n",
       "      <th>Y house price of unit area</th>\n",
       "    </tr>\n",
       "  </thead>\n",
       "  <tbody>\n",
       "    <tr>\n",
       "      <td>0</td>\n",
       "      <td>10</td>\n",
       "      <td>24.98298</td>\n",
       "      <td>121.54024</td>\n",
       "      <td>37.9</td>\n",
       "    </tr>\n",
       "    <tr>\n",
       "      <td>1</td>\n",
       "      <td>9</td>\n",
       "      <td>24.98034</td>\n",
       "      <td>121.53951</td>\n",
       "      <td>42.2</td>\n",
       "    </tr>\n",
       "    <tr>\n",
       "      <td>2</td>\n",
       "      <td>5</td>\n",
       "      <td>24.98746</td>\n",
       "      <td>121.54391</td>\n",
       "      <td>47.3</td>\n",
       "    </tr>\n",
       "    <tr>\n",
       "      <td>3</td>\n",
       "      <td>5</td>\n",
       "      <td>24.98746</td>\n",
       "      <td>121.54391</td>\n",
       "      <td>54.8</td>\n",
       "    </tr>\n",
       "    <tr>\n",
       "      <td>4</td>\n",
       "      <td>5</td>\n",
       "      <td>24.97937</td>\n",
       "      <td>121.54245</td>\n",
       "      <td>43.1</td>\n",
       "    </tr>\n",
       "  </tbody>\n",
       "</table>\n",
       "</div>"
      ],
      "text/plain": [
       "   X4 number of convenience stores  X5 latitude  X6 longitude  \\\n",
       "0                               10     24.98298     121.54024   \n",
       "1                                9     24.98034     121.53951   \n",
       "2                                5     24.98746     121.54391   \n",
       "3                                5     24.98746     121.54391   \n",
       "4                                5     24.97937     121.54245   \n",
       "\n",
       "   Y house price of unit area  \n",
       "0                        37.9  \n",
       "1                        42.2  \n",
       "2                        47.3  \n",
       "3                        54.8  \n",
       "4                        43.1  "
      ]
     },
     "execution_count": 11,
     "metadata": {},
     "output_type": "execute_result"
    }
   ],
   "source": [
    "data.head()"
   ]
  },
  {
   "cell_type": "markdown",
   "metadata": {},
   "source": [
    "## 4. 모델링 (Linear Regression)\n",
    "\n"
   ]
  },
  {
   "cell_type": "code",
   "execution_count": 12,
   "metadata": {},
   "outputs": [],
   "source": [
    "##### Your Code(Node Loading/Start) #####\n",
    "class PlusNode():\n",
    "    def __init__(self):\n",
    "        self.x, self.y, self.z = None, None, None\n",
    "        \n",
    "    def forward(self, x, y, z, a):\n",
    "        self.x, self.y, self.z, self.a, self.b = x, y, z, a,  (x + y + z + a)\n",
    "        return self.b\n",
    "    \n",
    "    def backward(self, dL):\n",
    "        return dL, dL, dL, dL\n",
    "    \n",
    "class MinusNode():\n",
    "    def __init__(self):\n",
    "        self.x, self.y, self.z = None, None, None\n",
    "        \n",
    "    def forward(self, x, y):\n",
    "        self.x, self.y, self.z = x, y, x - y\n",
    "        return self.z\n",
    "    \n",
    "    def backward(self, dL):\n",
    "        return dL, -1*dL\n",
    "    \n",
    "class MulNode():\n",
    "    def __init__(self):\n",
    "        self.x, self.y, self.z = None, None, None\n",
    "        \n",
    "    def forward(self, x, y):\n",
    "        self.x, self.y, self.z = x, y, x*y\n",
    "        return self.z\n",
    "    \n",
    "    def backward(self, dL):\n",
    "        return self.y*dL, self.x*dL\n",
    "\n",
    "class SquareNode():\n",
    "    def __init__(self):\n",
    "        self.x, self.z = None, None\n",
    "    \n",
    "    def forward(self, x):\n",
    "        self.x, self.z = x, x*x\n",
    "        return self.z\n",
    "    \n",
    "    def backward(self, dL):\n",
    "        return 2*self.x*dL\n",
    "        \n",
    "\n",
    "class CostNode():\n",
    "    def __init__(self):\n",
    "        self.x, self.z = None, None\n",
    "    \n",
    "    def forward(self, x):\n",
    "        self.x = x\n",
    "        self.z = np.mean(self.x)\n",
    "        return self.z\n",
    "    \n",
    "    def backward(self):\n",
    "        return 1/len(self.x)*np.ones(shape = (self.x.shape))\n",
    "    \n",
    "class SigmoidNode():\n",
    "    def __init__(self):\n",
    "        self.x, self.y = None, None\n",
    "        \n",
    "    def forward(self, x):\n",
    "        self.y = 1 / (1 + np.exp(-x))\n",
    "        return self.y\n",
    "    \n",
    "    def backward(self, dL):\n",
    "        return self.y * (1 - self.y) * dL\n",
    "    \n",
    "##### Your Code(Node Loading/End) #####"
   ]
  },
  {
   "cell_type": "markdown",
   "metadata": {},
   "source": [
    "***\n",
    "## Model Implementation"
   ]
  },
  {
   "cell_type": "markdown",
   "metadata": {},
   "source": [
    "<img src=\"./images/2_2_image3.png\">"
   ]
  },
  {
   "cell_type": "code",
   "execution_count": 13,
   "metadata": {},
   "outputs": [],
   "source": [
    "##### Your Code(Model Implementation/Start) #####\n",
    "Z14_node = MulNode()\n",
    "Z15_node = MulNode()\n",
    "Z16_node = MulNode()\n",
    "Z2_node = PlusNode()\n",
    "Z3_node = SigmoidNode()\n",
    "Z4_node = MinusNode()\n",
    "L_node = SquareNode()\n",
    "J_node = CostNode()\n",
    "##### Your Code(Model Implementation/Start) #####"
   ]
  },
  {
   "cell_type": "markdown",
   "metadata": {},
   "source": [
    "***\n",
    "## Learning Preparation\n",
    "그 후에 학습에 필요한 값들을 정의하고, 결과를 확인하기 위한 list들을 초기화해준다."
   ]
  },
  {
   "cell_type": "code",
   "execution_count": 14,
   "metadata": {},
   "outputs": [],
   "source": [
    "theta4, theta5, theta6, theta7 = 0, 0, 0, 0\n",
    "lr = 0.03 # learning rate 설정\n",
    "epochs = 10000 # 총 epoch 설정\n",
    "\n",
    "cost_list = []\n",
    "theta4_list, theta5_list, theta6_list, theta7_list = [], [], [], []"
   ]
  },
  {
   "cell_type": "code",
   "execution_count": 17,
   "metadata": {},
   "outputs": [],
   "source": [
    "for i in range(epochs):\n",
    "    Z14 = Z14_node.forward(theta4, data['X4 number of convenience stores'])\n",
    "    Z15 = Z15_node.forward(theta5, data['X5 latitude'])\n",
    "    Z16 = Z16_node.forward(theta6, data['X6 longitude'])\n",
    "    Z2 = Z2_node.forward(Z14, Z15, Z16, theta7)\n",
    "    Z3 = Z3_node.forward(Z2)\n",
    "    Z4 = Z4_node.forward(data['Y house price of unit area'], Z3)\n",
    "    L = L_node.forward(Z4)\n",
    "    J = J_node.forward(L)\n",
    "    \n",
    "    dL = J_node.backward()\n",
    "    dZ4 = L_node.backward(dL)\n",
    "    dY, dZ3 = Z4_node.backward(dZ4)\n",
    "    dZ2 = Z3_node.backward(dZ3)\n",
    "    dZ4, dZ5, dZ6, dTheta7 = Z2_node.backward(dZ2)\n",
    "    dTheta4, dX4 = Z14_node.backward(dZ4)\n",
    "    dTheta5, dX5 = Z15_node.backward(dZ5)\n",
    "    dTheta6, dX6 = Z16_node.backward(dZ6)\n",
    "    \n",
    "    theta4 = theta4 - lr*np.sum(dTheta4)\n",
    "    theta5 = theta5 - lr*np.sum(dTheta5)\n",
    "    theta6 = theta6 - lr*np.sum(dTheta6)\n",
    "    theta7 = theta7 - lr*np.sum(dTheta7)\n",
    "    \n",
    "    cost_list.append(J)\n",
    "    theta4_list.append(theta4)\n",
    "    theta5_list.append(theta5)\n",
    "    theta6_list.append(theta6)\n",
    "    theta7_list.append(theta7)"
   ]
  },
  {
   "cell_type": "code",
   "execution_count": 18,
   "metadata": {},
   "outputs": [
    {
     "data": {
      "image/png": "[encoded data removed]",
      "text/plain": [
       "<Figure size 1440x720 with 2 Axes>"
      ]
     },
     "metadata": {
      "needs_background": "light"
     },
     "output_type": "display_data"
    }
   ],
   "source": [
    "fig, (ax1, ax2) = plt.subplots(1, 2, figsize = (20,10))\n",
    "ax1.grid()\n",
    "ax1.plot(cost_list)\n",
    "ax1.set_title(\"Cost\", fontsize = 30)\n",
    "\n",
    "ax2.plot(theta4_list, label = r\"$\\theta_{4}$\")\n",
    "ax2.plot(theta5_list, label = r\"$\\theta_{5}$\")\n",
    "ax2.plot(theta6_list, label = r\"$\\theta_{6}$\")\n",
    "ax2.plot(theta7_list, label = r\"$\\theta_{7}$\")\n",
    "fig.legend(fontsize = 'xx-large')\n",
    "ax2.set_title(r\"$\\theta_{4}, \\theta_{5}, \\theta_{6},\\theta_{7}$ Update\", fontsize = 30)\n",
    "ax2.grid()\n"
   ]
  },
  {
   "cell_type": "code",
   "execution_count": null,
   "metadata": {},
   "outputs": [],
   "source": []
  },
  {
   "cell_type": "code",
   "execution_count": null,
   "metadata": {},
   "outputs": [],
   "source": []
  },
  {
   "cell_type": "code",
   "execution_count": null,
   "metadata": {},
   "outputs": [],
   "source": []
  }
 ],
 "metadata": {
  "kernelspec": {
   "display_name": "Python 3",
   "language": "python",
   "name": "python3"
  },
  "language_info": {
   "codemirror_mode": {
    "name": "ipython",
    "version": 3
   },
   "file_extension": ".py",
   "mimetype": "text/x-python",
   "name": "python",
   "nbconvert_exporter": "python",
   "pygments_lexer": "ipython3",
   "version": "3.7.4"
  }
 },
 "nbformat": 4,
 "nbformat_minor": 2
}
