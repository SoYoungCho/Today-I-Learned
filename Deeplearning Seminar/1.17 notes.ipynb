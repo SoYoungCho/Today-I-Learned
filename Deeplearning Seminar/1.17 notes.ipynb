{
 "cells": [
  {
   "cell_type": "markdown",
   "metadata": {},
   "source": [
    "# bias가 추가되는 경우\n",
    "\n",
    "## 지금까지는 y = wx에 대해 다루었는데 y = wx + b 가 된다면?\n",
    "\n",
    "y = wx + b 이 식에서 w는 x가 곱해지는 반면, b는 그냥 상수.\n",
    "\n",
    "따라서 같은 learning rate을 가지더라도 w는 시간이 오래걸린다."
   ]
  },
  {
   "cell_type": "markdown",
   "metadata": {},
   "source": [
    "## Learning Rate\n",
    "\n",
    "같은 learning rate을 쓰더라도 입력값 x의 볌위가 0-1인지 0-100인지 이 차이에 따라 파라미터들이(여기서는 w와 b) 학습되는 속도가 달라질 수 있다.\n",
    "\n",
    "weight 와 달리 bias 업데이트 식에는 xi가 없다.(xi를 곱하지 않는다)\n",
    "\n",
    "**즉, bias는 데이터(x)의 영향을 안 받는다.**\n",
    "\n",
    "**반면 weight는 데이터 영향을 받는다. -> 따라서 learning 속도가 떨어진다.**\n",
    "\n",
    "만일 x가 x1, x2 .. 여러 개가 되더라도 b는 이 x의 영향을 안 받는다는게 포인트!\n"
   ]
  },
  {
   "cell_type": "markdown",
   "metadata": {},
   "source": [
    "## 데이터 범위 정규화 하기 : 정규분포 (normal dist.)\n",
    "\n",
    "*참고* 중심극한정리 : 데이터 크기가 크면 정규분포를 따른다.\n",
    "\n",
    "코드상에서 x_data를 np.random.normal로 한 것 이유가 바로 이것.\n",
    "\n",
    "예) x_data에 10을 곱해주면 데이터의 범위가 커진다.\n",
    "\n",
    "가령 -1 부터 1이였던 것 x_data 범위에 10을 곱하면 **-10 ~ 10이 되어 데이터 범위가 커진다.**\n",
    "\n",
    "**이는 learning rate이 10배가 된 것과 같은 효과를 주게 된다.**\n",
    "\n",
    "\n",
    "### 즉, bias를 추가했는데 learning 속도가 달라지는 이유는?\n",
    "\n",
    "xi 때문. 히스토그램을 그려서 데이터 분포를 확인하고, 정규화해주어야 한다. mean을 0으로, std를 1 해주어야 하는 이유가 바로 이것.\n",
    "\n",
    "loss 그래프를 그렸을 때 부드럽게 떨어지지 않고 뚝 떨어질 경우 : 파라미터들, 즉 theta들의 learning이 잘 안될 수 있음을 알 수 있다.\n",
    "\n",
    "이 말은 즉슨 theta들의 learning rate 속도가 안 맞을 수 있음을 의미."
   ]
  },
  {
   "cell_type": "markdown",
   "metadata": {},
   "source": [
    "## w와 b에 대해 같은 lr 사용하면 발산 가능\n",
    "\n",
    "bias를 추가하였을 때 cost 에 영향을 주는 것이 무엇일지 확인하기 위해 다음과 같이 2가지 cost function을 그린다.\n",
    "\n",
    "    1) weight 고정 & bias 변화 하는 경우\n",
    "\n",
    "    2) weight 변화 & bias 고정하는 경우\n",
    "\n",
    "Q. cost function이 날뛰는 것은?\n",
    "\n",
    "A. 2번. weight 변화하는 경우만 날뜀. **즉 cost 에 영향 주는 것은 weight에 곱해진 xi 때문이다.**\n",
    "\n",
    "\n",
    "즉, bias는 데이터 크기에 영향을 안 받지만 weight는 데이터 크기(x)에 영향을 어마어마하게 받음."
   ]
  },
  {
   "cell_type": "markdown",
   "metadata": {},
   "source": [
    "## 정규화의 필요성\n",
    "\n",
    "예를 들어, 딥러닝을 적용하려고 x_data 히스토그램을 그렸는데 **std가 너무 크면?** (예) 2.8) ==> Not good. std는 1 언저리어야.\n",
    "\n"
   ]
  },
  {
   "cell_type": "markdown",
   "metadata": {},
   "source": [
    "y = theta2*x2 + theta1*x1 + b 라는 식에서\n",
    "\n",
    "x2는 키, x1는 연봉이면 데이터 단위가 너무 차이남.\n",
    "\n",
    "std는 1 정도 맞춰주고, 웬만하면 dimension 은 한 자리 숫자로 맞춰야 함.\n",
    "\n",
    "따라서 이런 데이터를 0~1로 하는 정규화가 선행되어야 한다."
   ]
  },
  {
   "cell_type": "markdown",
   "metadata": {},
   "source": [
    "### (x - mean) / std\n",
    "\n",
    "std로 나누는 것은 1로 맞추기 위해, \n",
    "mean을 빼는 것은 0으로 맞추기 위한 것.\n",
    "\n",
    "Q. weight랑 bias 의 cost function이 거의 똑같이 나온다?\n",
    "\n",
    "A. 기울기가 거의 똑같다 = learning이 잘 된다.\n",
    "\n",
    "Q. 만일 zero-centered가 안 되어있다?\n",
    "\n",
    "즉, 데이터의 평균값이 0이 아니면 위와 같은 문제가 나타날 수. (파라미터 cost function 차이가 날 수 있어서 learning이 잘 안될 수 있다.)"
   ]
  },
  {
   "cell_type": "markdown",
   "metadata": {},
   "source": [
    "cost func의 기울기가 동일하면 (그래프가 겹치면) 같은 lr 적용할 수 있겠다 추론 가능.\n",
    "\n",
    "feature scaling, zero-centerd, std=1로 하는 것의 중요성"
   ]
  },
  {
   "cell_type": "markdown",
   "metadata": {},
   "source": [
    "데이터셋 normalize 후 새로운 데이터를 적용할 때 똑같이 normalize 해주어야 함."
   ]
  },
  {
   "cell_type": "markdown",
   "metadata": {},
   "source": [
    "즉 정규화해주는 이유? 피처들 간의 차원 맞춰주어야.\n",
    "\n",
    "zero-centered를 안해주거나, std를 안해주면 \n",
    "\n",
    "weight 의 cost function이 더 오목하고\n",
    "bias 의 cost function이 더 완만할 것이다.\n",
    "\n",
    "둘 중 하나만 하면 조금 덜하고, 둘 다 안하면 완전 기울기 차이가 더 심하고.\n",
    "\n",
    "기울기 차이가 있다면 같은 lr로 학습시킬 수 없기 때문에 이렇게 정규화를 통해 같은 기울기를 가지는 cost function이 (w과 b) 나오게 함으로써 \n",
    "같은 lr로 학습시켜 원하는 결과를 얻을 수 있게 하는 것이다."
   ]
  }
 ],
 "metadata": {
  "kernelspec": {
   "display_name": "Python 3",
   "language": "python",
   "name": "python3"
  },
  "language_info": {
   "codemirror_mode": {
    "name": "ipython",
    "version": 3
   },
   "file_extension": ".py",
   "mimetype": "text/x-python",
   "name": "python",
   "nbconvert_exporter": "python",
   "pygments_lexer": "ipython3",
   "version": "3.7.4"
  }
 },
 "nbformat": 4,
 "nbformat_minor": 2
}
