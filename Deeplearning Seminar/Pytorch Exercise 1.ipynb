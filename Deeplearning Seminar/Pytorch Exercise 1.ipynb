{
 "cells": [
  {
   "cell_type": "code",
   "execution_count": 3,
   "metadata": {},
   "outputs": [],
   "source": [
    "import numpy as np\n",
    "import matplotlib.pyplot as plt\n",
    "\n",
    "import torch\n",
    "import torch.nn as nn"
   ]
  },
  {
   "cell_type": "code",
   "execution_count": 13,
   "metadata": {},
   "outputs": [],
   "source": [
    "#Dataset Generation\n",
    "n_point = 1000\n",
    "x_data = np.random.normal(loc = 0 , scale = 2, size = (n_point,1))\n",
    "y_data = x_data + 0.2*np.random.normal(loc = 0 , scale = 2, size = (n_point,1))\n",
    "\n",
    "#Dataset Visualization\n",
    "fig, ax = plt.subplots(figsize =(15,15))\n",
    "ax.plot = (x_data, y_data, 'bo')"
   ]
  },
  {
   "cell_type": "code",
   "execution_count": 6,
   "metadata": {},
   "outputs": [],
   "source": [
    "#%matplotlib qt"
   ]
  },
  {
   "cell_type": "code",
   "execution_count": 43,
   "metadata": {},
   "outputs": [
    {
     "name": "stdout",
     "output_type": "stream",
     "text": [
      "LinearRegression(\n",
      "  (fc1): Linear(in_features=1, out_features=2, bias=True)\n",
      ")\n"
     ]
    }
   ],
   "source": [
    "class LinearRegression(nn.Module):\n",
    "    def __init__(self, input_size, output_size):\n",
    "        super(LinearRegression, self).__init__()\n",
    "        self.input_size, self.output_size =input_size, output_size\n",
    "        self.fc1 = nn.Linear(self.input_size, self.output_size)\n",
    "    \n",
    "    def forward(self, x): # sigmoid까지 해서 backprop 까지.\n",
    "        return self.sigmoid(self.fc1(x))\n",
    "\n",
    "input_size, output_size = 1,2 # input 1개, output 2개\n",
    "model = LinearRegression(1,2)\n",
    "print(model)"
   ]
  },
  {
   "cell_type": "code",
   "execution_count": 44,
   "metadata": {},
   "outputs": [
    {
     "name": "stdout",
     "output_type": "stream",
     "text": [
      "OrderedDict([('fc1.weight', tensor([[ 0.9165],\n",
      "        [-0.1344]])), ('fc1.bias', tensor([-0.3181, -0.1274]))])\n"
     ]
    }
   ],
   "source": [
    "print(model.state_dict())"
   ]
  },
  {
   "cell_type": "markdown",
   "metadata": {},
   "source": [
    "딕셔너리. 현재 weight와 bias가 자동으로 초기화 됨."
   ]
  },
  {
   "cell_type": "code",
   "execution_count": 45,
   "metadata": {},
   "outputs": [
    {
     "name": "stdout",
     "output_type": "stream",
     "text": [
      "tensor([[ 0.9165],\n",
      "        [-0.1344]])\n",
      "tensor([-0.3181, -0.1274])\n"
     ]
    }
   ],
   "source": [
    "state_dict = model.state_dict()\n",
    "print(state_dict['fc1.weight'])\n",
    "print(state_dict['fc1.bias'])"
   ]
  },
  {
   "cell_type": "code",
   "execution_count": 46,
   "metadata": {},
   "outputs": [
    {
     "name": "stdout",
     "output_type": "stream",
     "text": [
      "torch.Size([2, 1])\n",
      "torch.Size([2])\n"
     ]
    }
   ],
   "source": [
    "weight = state_dict['fc1.weight']\n",
    "bias = state_dict['fc1.bias']\n",
    "print(state_dict['fc1.weight'].shape)\n",
    "print(state_dict['fc1.bias'].shape)"
   ]
  },
  {
   "cell_type": "code",
   "execution_count": 48,
   "metadata": {},
   "outputs": [
    {
     "name": "stdout",
     "output_type": "stream",
     "text": [
      "torch.Size([2, 1])\n",
      "tensor([0.9165])\n",
      "tensor([-0.1344])\n"
     ]
    }
   ],
   "source": [
    "print(weight.shape)\n",
    "print(weight[0])\n",
    "print(weight[1])"
   ]
  },
  {
   "cell_type": "markdown",
   "metadata": {},
   "source": [
    "weight[0] 는 첫번째 뉴런의 weight임을 의미\n",
    "weight[1] 는 두번째 뉴런의 weight임을 의미. 그림으로 이해하면 쉬움"
   ]
  },
  {
   "cell_type": "markdown",
   "metadata": {},
   "source": [
    "output, input 개수 랑 해서 이해하기.."
   ]
  },
  {
   "cell_type": "code",
   "execution_count": 70,
   "metadata": {},
   "outputs": [
    {
     "name": "stderr",
     "output_type": "stream",
     "text": [
      "C:\\ProgramData\\Anaconda3\\lib\\site-packages\\ipykernel_launcher.py:13: UserWarning: To copy construct from a tensor, it is recommended to use sourceTensor.clone().detach() or sourceTensor.clone().detach().requires_grad_(True), rather than torch.tensor(sourceTensor).\n",
      "  del sys.path[0]\n",
      "C:\\ProgramData\\Anaconda3\\lib\\site-packages\\ipykernel_launcher.py:14: UserWarning: To copy construct from a tensor, it is recommended to use sourceTensor.clone().detach() or sourceTensor.clone().detach().requires_grad_(True), rather than torch.tensor(sourceTensor).\n",
      "  \n"
     ]
    },
    {
     "ename": "NameError",
     "evalue": "name 'fig_idx' is not defined",
     "output_type": "error",
     "traceback": [
      "\u001b[1;31m---------------------------------------------------------------------------\u001b[0m",
      "\u001b[1;31mNameError\u001b[0m                                 Traceback (most recent call last)",
      "\u001b[1;32m<ipython-input-70-353442095412>\u001b[0m in \u001b[0;36m<module>\u001b[1;34m\u001b[0m\n\u001b[0;32m     15\u001b[0m \u001b[1;33m\u001b[0m\u001b[0m\n\u001b[0;32m     16\u001b[0m \u001b[1;32mfor\u001b[0m \u001b[0mi\u001b[0m \u001b[1;32min\u001b[0m \u001b[0mrange\u001b[0m\u001b[1;33m(\u001b[0m\u001b[0mepochs\u001b[0m\u001b[1;33m)\u001b[0m\u001b[1;33m:\u001b[0m\u001b[1;33m\u001b[0m\u001b[1;33m\u001b[0m\u001b[0m\n\u001b[1;32m---> 17\u001b[1;33m     \u001b[0msavefig\u001b[0m\u001b[1;33m(\u001b[0m\u001b[0mi\u001b[0m\u001b[1;33m)\u001b[0m\u001b[1;33m\u001b[0m\u001b[1;33m\u001b[0m\u001b[0m\n\u001b[0m\u001b[0;32m     18\u001b[0m \u001b[1;33m\u001b[0m\u001b[0m\n\u001b[0;32m     19\u001b[0m     \"\"\"\n",
      "\u001b[1;32m<ipython-input-69-b2f26768c688>\u001b[0m in \u001b[0;36msavefig\u001b[1;34m(i)\u001b[0m\n\u001b[0;32m     13\u001b[0m \u001b[1;33m\u001b[0m\u001b[0m\n\u001b[0;32m     14\u001b[0m     \u001b[0max2\u001b[0m\u001b[1;33m.\u001b[0m\u001b[0mplot\u001b[0m\u001b[1;33m(\u001b[0m\u001b[1;33m[\u001b[0m\u001b[0mx_min\u001b[0m\u001b[1;33m,\u001b[0m \u001b[0mx_max\u001b[0m\u001b[1;33m]\u001b[0m\u001b[1;33m,\u001b[0m \u001b[1;33m[\u001b[0m\u001b[0my0\u001b[0m\u001b[1;33m,\u001b[0m \u001b[0my1\u001b[0m\u001b[1;33m]\u001b[0m\u001b[1;33m,\u001b[0m \u001b[1;34m'r'\u001b[0m\u001b[1;33m,\u001b[0m \u001b[0mlinewidth\u001b[0m \u001b[1;33m=\u001b[0m \u001b[1;36m3\u001b[0m\u001b[1;33m)\u001b[0m \u001b[1;31m# 우리 모델의 선을 빨갛게 그려봅시다.\u001b[0m\u001b[1;33m\u001b[0m\u001b[1;33m\u001b[0m\u001b[0m\n\u001b[1;32m---> 15\u001b[1;33m     \u001b[0mfig\u001b[0m\u001b[1;33m.\u001b[0m\u001b[0msavefig\u001b[0m\u001b[1;33m(\u001b[0m\u001b[1;34m'.\\model'\u001b[0m \u001b[1;33m+\u001b[0m \u001b[0mstr\u001b[0m\u001b[1;33m(\u001b[0m\u001b[0mfig_idx\u001b[0m\u001b[1;33m)\u001b[0m \u001b[1;33m+\u001b[0m \u001b[0mstr\u001b[0m\u001b[1;33m(\u001b[0m\u001b[1;34m\".png\"\u001b[0m\u001b[1;33m)\u001b[0m\u001b[1;33m)\u001b[0m\u001b[1;33m\u001b[0m\u001b[1;33m\u001b[0m\u001b[0m\n\u001b[0m",
      "\u001b[1;31mNameError\u001b[0m: name 'fig_idx' is not defined"
     ]
    }
   ],
   "source": [
    "input_size, output_size = 1, 1 # input 1개, output 1개\n",
    "model = LinearRegression(input_size, output_size)\n",
    "\n",
    "lr = 0.001\n",
    "epochs = 1000\n",
    "check_freq = 101 # 몇번째마다 체크할건지, validation 할건지 등. practical tip! 홀수로 준다.\n",
    "\n",
    "criterion = nn.MSELoss()\n",
    "optimizer = torch.optim.SGD(model.parameters(), lr = lr)\n",
    "\n",
    "loss_list = []\n",
    "\n",
    "x_data = torch.tensor(x_data, dtype = torch.float)\n",
    "y_data = torch.tensor(y_data, dtype = torch.float)\n",
    "\n",
    "for i in range(epochs):\n",
    "    savefig(i)\n",
    "    \n",
    "    \"\"\"\n",
    "    pred = model(x_data)\n",
    "    \n",
    "    optimizer.zero_grad()\n",
    "    loss = criterion(pred, y_data)\n",
    "    loss.backward()\n",
    "    optimizer.step()\n",
    "    \n",
    "    loss_list.append(loss.detach().numpy()) #detach()는 variable을 텐서로 \n",
    "    \"\"\"\n",
    "    \n",
    "    "
   ]
  },
  {
   "cell_type": "code",
   "execution_count": 69,
   "metadata": {},
   "outputs": [],
   "source": [
    "def savefig(i):\n",
    "    \n",
    "    fig, (ax1, ax2) = plt.subplots(2,1,figsize = (15,15))\n",
    "    ax1.plot(loss_list)\n",
    "    ax2.plot(x_data, y_data, 'bo') \n",
    "    \n",
    "    x_min, x_max = x_data.min().numpy(), x_data.max().numpy()\n",
    "    weight = model.state_dict()['fc1.weight'][0][0].numpy()\n",
    "    bias = model.state_dict()['fc1.bias'][0].numpy()\n",
    "    \n",
    "    y0 = x_min * weight + bias\n",
    "    y1 = x_max * weight + bias\n",
    "    \n",
    "    ax2.plot([x_min, x_max], [y0, y1], 'r', linewidth = 3) # 우리 모델의 선을 빨갛게 그려봅시다.\n",
    "    fig.savefig('.\\model' + str(fig_idx) + str(\".png\"))"
   ]
  },
  {
   "cell_type": "code",
   "execution_count": 59,
   "metadata": {},
   "outputs": [],
   "source": []
  },
  {
   "cell_type": "code",
   "execution_count": 60,
   "metadata": {},
   "outputs": [
    {
     "name": "stdout",
     "output_type": "stream",
     "text": [
      "1.0077076 0.03292385\n"
     ]
    }
   ],
   "source": [
    "\n",
    "\n",
    "print(weight, bias)"
   ]
  },
  {
   "cell_type": "code",
   "execution_count": 65,
   "metadata": {},
   "outputs": [
    {
     "data": {
      "text/plain": [
       "[<matplotlib.lines.Line2D at 0x15e20960948>]"
      ]
     },
     "execution_count": 65,
     "metadata": {},
     "output_type": "execute_result"
    }
   ],
   "source": []
  },
  {
   "cell_type": "code",
   "execution_count": null,
   "metadata": {},
   "outputs": [],
   "source": []
  }
 ],
 "metadata": {
  "kernelspec": {
   "display_name": "PyTorch",
   "language": "python",
   "name": "pytorch"
  },
  "language_info": {
   "codemirror_mode": {
    "name": "ipython",
    "version": 3
   },
   "file_extension": ".py",
   "mimetype": "text/x-python",
   "name": "python",
   "nbconvert_exporter": "python",
   "pygments_lexer": "ipython3",
   "version": "3.7.4"
  }
 },
 "nbformat": 4,
 "nbformat_minor": 2
}
