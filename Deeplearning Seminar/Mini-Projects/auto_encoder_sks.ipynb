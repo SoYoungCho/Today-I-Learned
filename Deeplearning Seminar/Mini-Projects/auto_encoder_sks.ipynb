{
 "cells": [
  {
   "cell_type": "code",
   "execution_count": 1,
   "metadata": {},
   "outputs": [],
   "source": [
    "import numpy as np\n",
    "import matplotlib.pyplot as plt\n",
    "import matplotlib.cm as cm\n",
    "from tqdm import trange\n",
    "\n",
    "import torch\n",
    "import torch.nn as nn\n",
    "import torch.optim as optim\n",
    "\n",
    "from torchvision import datasets, transforms\n",
    "from torchvision.datasets import MNIST\n",
    "from torch.utils.data import Dataset, DataLoader\n",
    "\n",
    "if torch.cuda.is_available():\n",
    "    device = torch.device('cuda')\n",
    "else:\n",
    "    device = torch.device('cpu')"
   ]
  },
  {
   "cell_type": "code",
   "execution_count": 2,
   "metadata": {},
   "outputs": [],
   "source": [
    "def get_dataloader(train_batch_size, val_batch_size):\n",
    "    train_dataset = datasets.MNIST('./MNIST_Dataset', train = True, download = True, transform = transforms.ToTensor())\n",
    "    validation_dataset = datasets.MNIST(\"./MNIST_Dataset\", train = False, download = True, transform = transforms.ToTensor())\n",
    "    \n",
    "    train_loader = DataLoader(dataset = train_dataset, batch_size = train_batch_size, shuffle = True)\n",
    "    validation_loader = DataLoader(dataset = validation_dataset, batch_size = val_batch_size, shuffle = True)\n",
    "    return train_loader, validation_loader"
   ]
  },
  {
   "cell_type": "code",
   "execution_count": 17,
   "metadata": {},
   "outputs": [],
   "source": [
    "class MNIST_Autoencoder(nn.Module):\n",
    "    def __init__(self, mode = 'training'):\n",
    "        super(MNIST_Autoencoder, self).__init__()\n",
    "        self.mode = mode\n",
    "        self.encoder = nn.Sequential(\n",
    "            nn.Linear(28*28, 512),\n",
    "            nn.ReLU(True),\n",
    "            nn.Linear(512, 256),\n",
    "            nn.ReLU(True)\n",
    "            )\n",
    "        self.decoder = nn.Sequential(\n",
    "            nn.Linear(256, 512),\n",
    "            nn.ReLU(True),\n",
    "            nn.Linear(512, 28*28),\n",
    "            nn.Sigmoid()\n",
    "            )\n",
    "        self.encoder_outputs = []\n",
    "        \n",
    "    def forward(self, x):\n",
    "        encoder_out = self.encoder(x)\n",
    "        decoder_out = self.decoder(encoder_out)\n",
    "        if self.mode == 'test':\n",
    "            self.encoder_outputs.append(encoder_out)\n",
    "        return decoder_out"
   ]
  },
  {
   "cell_type": "code",
   "execution_count": 4,
   "metadata": {},
   "outputs": [
    {
     "name": "stderr",
     "output_type": "stream",
     "text": [
      "\r",
      "  0%|                                                                                           | 0/10 [00:00<?, ?it/s]"
     ]
    },
    {
     "name": "stdout",
     "output_type": "stream",
     "text": [
      "0\n"
     ]
    },
    {
     "name": "stderr",
     "output_type": "stream",
     "text": [
      "\r",
      " 10%|████████▏                                                                         | 1/10 [03:06<28:00, 186.68s/it]"
     ]
    },
    {
     "name": "stdout",
     "output_type": "stream",
     "text": [
      "1\n"
     ]
    },
    {
     "name": "stderr",
     "output_type": "stream",
     "text": [
      "\r",
      " 20%|████████████████▍                                                                 | 2/10 [06:31<25:38, 192.26s/it]"
     ]
    },
    {
     "name": "stdout",
     "output_type": "stream",
     "text": [
      "2\n"
     ]
    },
    {
     "name": "stderr",
     "output_type": "stream",
     "text": [
      "\r",
      " 30%|████████████████████████▌                                                         | 3/10 [10:01<23:01, 197.37s/it]"
     ]
    },
    {
     "name": "stdout",
     "output_type": "stream",
     "text": [
      "3\n"
     ]
    },
    {
     "name": "stderr",
     "output_type": "stream",
     "text": [
      "\r",
      " 40%|████████████████████████████████▊                                                 | 4/10 [13:22<19:51, 198.65s/it]"
     ]
    },
    {
     "name": "stdout",
     "output_type": "stream",
     "text": [
      "4\n"
     ]
    },
    {
     "name": "stderr",
     "output_type": "stream",
     "text": [
      "\r",
      " 50%|█████████████████████████████████████████                                         | 5/10 [16:45<16:39, 199.84s/it]"
     ]
    },
    {
     "name": "stdout",
     "output_type": "stream",
     "text": [
      "5\n"
     ]
    },
    {
     "name": "stderr",
     "output_type": "stream",
     "text": [
      "\r",
      " 60%|█████████████████████████████████████████████████▏                                | 6/10 [20:33<13:52, 208.14s/it]"
     ]
    },
    {
     "name": "stdout",
     "output_type": "stream",
     "text": [
      "6\n"
     ]
    },
    {
     "name": "stderr",
     "output_type": "stream",
     "text": [
      "\r",
      " 70%|█████████████████████████████████████████████████████████▍                        | 7/10 [24:57<11:14, 224.91s/it]"
     ]
    },
    {
     "name": "stdout",
     "output_type": "stream",
     "text": [
      "7\n"
     ]
    },
    {
     "name": "stderr",
     "output_type": "stream",
     "text": [
      "\r",
      " 80%|█████████████████████████████████████████████████████████████████▌                | 8/10 [29:39<08:04, 242.04s/it]"
     ]
    },
    {
     "name": "stdout",
     "output_type": "stream",
     "text": [
      "8\n"
     ]
    },
    {
     "name": "stderr",
     "output_type": "stream",
     "text": [
      "\r",
      " 90%|█████████████████████████████████████████████████████████████████████████▊        | 9/10 [34:43<04:20, 260.65s/it]"
     ]
    },
    {
     "name": "stdout",
     "output_type": "stream",
     "text": [
      "9\n"
     ]
    },
    {
     "name": "stderr",
     "output_type": "stream",
     "text": [
      "100%|█████████████████████████████████████████████████████████████████████████████████| 10/10 [39:41<00:00, 238.14s/it]\n"
     ]
    }
   ],
   "source": [
    "epochs = 10\n",
    "train_batch_size, val_batch_size = 10, 2000\n",
    "lr = 0.001\n",
    "\n",
    "loss_list = []\n",
    "\n",
    "train_loader, validation_loader = get_dataloader(train_batch_size, val_batch_size)\n",
    "\n",
    "model = MNIST_Autoencoder().to(device)\n",
    "criterion = nn.MSELoss()\n",
    "optimizer = optim.Adam(model.parameters(), lr = lr)\n",
    "\n",
    "for epoch in trange(epochs):\n",
    "    print(epoch)\n",
    "    for step, (img, label) in enumerate(train_loader):\n",
    "        img, label = img.view(-1,28*28).to(device), label.to(device) # view는 reshape. -1 : 알아서 맞춰줌.\n",
    "        # 원래 -1 자리는 배치사이즈 자리.\n",
    "        \n",
    "        m_img = model(img)\n",
    "        \n",
    "        optimizer.zero_grad()\n",
    "        loss = criterion(m_img, img)\n",
    "        loss.backward()\n",
    "        optimizer.step()"
   ]
  },
  {
   "cell_type": "code",
   "execution_count": 5,
   "metadata": {},
   "outputs": [
    {
     "name": "stdout",
     "output_type": "stream",
     "text": [
      "odict_keys(['encoder.0.weight', 'encoder.0.bias', 'encoder.2.weight', 'encoder.2.bias', 'decoder.0.weight', 'decoder.0.bias', 'decoder.2.weight', 'decoder.2.bias'])\n"
     ]
    }
   ],
   "source": [
    "#%%\n",
    "print(model.state_dict().keys())\n",
    "trained_dict = model.state_dict()\n",
    "\n",
    "from collections import OrderedDict\n",
    "\n",
    "enc_state_dict = OrderedDict()\n",
    "dec_state_dict = OrderedDict()\n",
    "\n",
    "for k, v in trained_dict.items():\n",
    "    if k.startswith('encoder'):\n",
    "        enc_state_dict[k] = v\n",
    "\n",
    "for k, v in trained_dict.items():\n",
    "    if k.startswith('decoder'):\n",
    "        dec_state_dict[k] = v\n"
   ]
  },
  {
   "cell_type": "code",
   "execution_count": 6,
   "metadata": {},
   "outputs": [],
   "source": [
    "class MNIST_encoder(nn.Module):\n",
    "    def __init__(self):\n",
    "        super(MNIST_encoder, self).__init__()\n",
    "        self.encoder = nn.Sequential(\n",
    "            nn.Linear(28*28, 512),\n",
    "            nn.ReLU(True),\n",
    "            nn.Linear(512, 256),\n",
    "            nn.ReLU()\n",
    "            )\n",
    "    \n",
    "    def forward(self, x):\n",
    "        return self.encoder(x)"
   ]
  },
  {
   "cell_type": "code",
   "execution_count": 7,
   "metadata": {},
   "outputs": [],
   "source": [
    "class MNIST_generator(nn.Module):\n",
    "    def __init__(self):\n",
    "        super(MNIST_generator, self).__init__()\n",
    "        self.decoder = nn.Sequential(\n",
    "            nn.Linear(256, 512),\n",
    "            nn.ReLU(True),\n",
    "            nn.Linear(512, 28*28),\n",
    "            nn.Sigmoid()\n",
    "            )\n",
    "    \n",
    "    def forward(self, x):\n",
    "        return self.decoder(x)\n",
    "    "
   ]
  },
  {
   "cell_type": "code",
   "execution_count": 21,
   "metadata": {},
   "outputs": [
    {
     "name": "stdout",
     "output_type": "stream",
     "text": [
      "torch.Size([2000, 256])\n"
     ]
    },
    {
     "data": {
      "text/plain": [
       "<matplotlib.image.AxesImage at 0x18b138edb08>"
      ]
     },
     "execution_count": 21,
     "metadata": {},
     "output_type": "execute_result"
    },
    {
     "data": {
      "image/png": "[encoded data removed]",
      "text/plain": [
       "<Figure size 360x360 with 1 Axes>"
      ]
     },
     "metadata": {
      "needs_background": "light"
     },
     "output_type": "display_data"
    },
    {
     "data": {
      "image/png": "[encoded data removed]",
      "text/plain": [
       "<Figure size 360x360 with 1 Axes>"
      ]
     },
     "metadata": {
      "needs_background": "light"
     },
     "output_type": "display_data"
    }
   ],
   "source": [
    "encoder = MNIST_encoder()\n",
    "encoder.load_state_dict(enc_state_dict)\n",
    "\n",
    "generator = MNIST_generator()\n",
    "generator.load_state_dict(dec_state_dict)        \n",
    "        \n",
    "for step, (img, label) in enumerate(validation_loader):\n",
    "    img = img.view(-1, 28*28)\n",
    "    \n",
    "    encoded_arr = encoder(img)\n",
    "    m_img = generator(encoded_arr)\n",
    "    \n",
    "    \n",
    "    t_img = m_img[0].view(28,28).detach().cpu().numpy()\n",
    "    fig, ax = plt.subplots(figsize = (5,5))\n",
    "    ax.imshow(t_img, 'gray')\n",
    "    print(encoded_arr.shape)\n",
    "    \n",
    "    break        \n",
    "#%%\n",
    "random_num = torch.tensor(np.random.uniform(0, 2, size = (1,256)), dtype = torch.float)\n",
    "m_img = generator(random_num)\n",
    "    \n",
    "t_img = m_img[0].view(28,28).detach().cpu().numpy()\n",
    "fig, ax = plt.subplots(figsize = (5,5))\n",
    "ax.imshow(t_img, 'gray')"
   ]
  },
  {
   "cell_type": "code",
   "execution_count": null,
   "metadata": {},
   "outputs": [],
   "source": [
    "    "
   ]
  }
 ],
 "metadata": {
  "kernelspec": {
   "display_name": "PyTorch",
   "language": "python",
   "name": "pytorch"
  },
  "language_info": {
   "codemirror_mode": {
    "name": "ipython",
    "version": 3
   },
   "file_extension": ".py",
   "mimetype": "text/x-python",
   "name": "python",
   "nbconvert_exporter": "python",
   "pygments_lexer": "ipython3",
   "version": "3.7.4"
  }
 },
 "nbformat": 4,
 "nbformat_minor": 2
}
