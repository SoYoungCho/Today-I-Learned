{
 "cells": [
  {
   "cell_type": "markdown",
   "metadata": {},
   "source": [
    "* 가중치 : 입력이 출력에 주는 영향을 계산하는 매개변수  \n",
    "* 편향 : 각 노드가 얼마나 데이터에 민감한지 알려주는 매개변수  "
   ]
  },
  {
   "cell_type": "markdown",
   "metadata": {},
   "source": [
    "## 간단한 분류 모델"
   ]
  },
  {
   "cell_type": "code",
   "execution_count": 1,
   "metadata": {},
   "outputs": [],
   "source": [
    "import torch\n",
    "import numpy as np\n",
    "import matplotlib.pyplot as plt\n",
    "from sklearn.datasets import make_blobs\n",
    "import torch.nn.functional as F"
   ]
  },
  {
   "cell_type": "markdown",
   "metadata": {},
   "source": [
    "#### 1. 데이터셋 만들어주기"
   ]
  },
  {
   "cell_type": "code",
   "execution_count": 2,
   "metadata": {},
   "outputs": [],
   "source": [
    "n_dim = 2\n",
    "x_train, y_train = make_blobs(n_samples = 80, n_features = n_dim,\n",
    "                             centers = [[1,1],[-1,-1],[1,-1],[-1,1]], # 4 clusters\n",
    "                             shuffle = True, cluster_std = 0.3)\n",
    "x_test, y_test = make_blobs(n_samples = 20, n_features = n_dim,\n",
    "                             centers = [[1,1],[-1,-1],[1,-1],[-1,1]],\n",
    "                             shuffle = True, cluster_std = 0.3)"
   ]
  },
  {
   "cell_type": "markdown",
   "metadata": {},
   "source": [
    "scikit-learn의 make_blobs 함수는 예제용 데이터셋을 만들어주는 함수.  \n",
    "각 데이터 한 점이 몇 번째 클러스터에 속해있는지 알려주는 인덱스 레이블을 만들어낸다."
   ]
  },
  {
   "cell_type": "markdown",
   "metadata": {},
   "source": [
    "#### 2. 4개의 레이블을 2개로 합치기"
   ]
  },
  {
   "cell_type": "code",
   "execution_count": null,
   "metadata": {},
   "outputs": [],
   "source": []
  }
 ],
 "metadata": {
  "kernelspec": {
   "display_name": "Python 3",
   "language": "python",
   "name": "python3"
  },
  "language_info": {
   "codemirror_mode": {
    "name": "ipython",
    "version": 3
   },
   "file_extension": ".py",
   "mimetype": "text/x-python",
   "name": "python",
   "nbconvert_exporter": "python",
   "pygments_lexer": "ipython3",
   "version": "3.7.4"
  }
 },
 "nbformat": 4,
 "nbformat_minor": 2
}
